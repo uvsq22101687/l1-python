{
 "cells": [
  {
   "cell_type": "code",
   "execution_count": 3,
   "metadata": {},
   "outputs": [
    {
     "name": "stdout",
     "output_type": "stream",
     "text": [
      "['graven', 'anana', 'cleymax']\n",
      "graven\n",
      "cleymax\n"
     ]
    }
   ],
   "source": [
    "online_players = [\"graven\",\"anana\",\"cleymax\"]\n",
    "print(online_players)\n",
    "print(online_players[0])\n",
    "print(online_players[2])    "
   ]
  },
  {
   "cell_type": "code",
   "execution_count": 30,
   "metadata": {},
   "outputs": [
    {
     "name": "stdout",
     "output_type": "stream",
     "text": [
      "[]\n"
     ]
    }
   ],
   "source": [
    "online_players = [\"graven\",\"anana\",\"cleymax\",\"bob\"]\n",
    "online_players.append(\"gameur\")\n",
    "online_players.extend([\"gogo\",\"speed\"])\n",
    "online_players.clear()\n",
    "print(online_players)\n"
   ]
  },
  {
   "cell_type": "code",
   "execution_count": 33,
   "metadata": {},
   "outputs": [
    {
     "name": "stdout",
     "output_type": "stream",
     "text": [
      "la moyenne de l'éléve est de 10.5\n"
     ]
    }
   ],
   "source": [
    "import statistics\n",
    "form random \n",
    "notes = [8,12,10,9,4,20]\n",
    "result = statistics.mean(notes)\n",
    "print(\"la moyenne de l'éléve est de {}\".format(result))"
   ]
  },
  {
   "cell_type": "code",
   "execution_count": 34,
   "metadata": {},
   "outputs": [
    {
     "name": "stdout",
     "output_type": "stream",
     "text": [
      "['ludivine@gmail.com', 'mendy', 'lulu']\n"
     ]
    }
   ],
   "source": [
    "text = input(\"entrer une chaine de la forme (email-pseudo-motdepasse\").split(\"-\")\n",
    "print(text)\n",
    "print(\"salut{}\".format(text[1]))"
   ]
  }
 ],
 "metadata": {
  "kernelspec": {
   "display_name": "Python 3.10.7 64-bit",
   "language": "python",
   "name": "python3"
  },
  "language_info": {
   "codemirror_mode": {
    "name": "ipython",
    "version": 3
   },
   "file_extension": ".py",
   "mimetype": "text/x-python",
   "name": "python",
   "nbconvert_exporter": "python",
   "pygments_lexer": "ipython3",
   "version": "3.10.7"
  },
  "orig_nbformat": 4,
  "vscode": {
   "interpreter": {
    "hash": "916dbcbb3f70747c44a77c7bcd40155683ae19c65e1c03b4aa3499c5328201f1"
   }
  }
 },
 "nbformat": 4,
 "nbformat_minor": 2
}
