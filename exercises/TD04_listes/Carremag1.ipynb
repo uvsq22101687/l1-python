{
 "cells": [
  {
   "cell_type": "code",
   "execution_count": 3,
   "metadata": {},
   "outputs": [],
   "source": [
    "carre_mag = [[4,14,15,1], [9,7,6,12], [5,11,10,8], [16,2,3,13]]"
   ]
  },
  {
   "cell_type": "code",
   "execution_count": 4,
   "metadata": {},
   "outputs": [],
   "source": [
    "carre_pas_mag =[]\n",
    "for num_ligne in range(len(carre_mag)):\n",
    "    carre_pas_mag.append([])\n",
    "    for num_colonne in range(len(carre_mag[num_ligne])):\n",
    "        carre_pas_mag[num_ligne].append(carre_mag[num_ligne][num_colonne])"
   ]
  },
  {
   "cell_type": "code",
   "execution_count": null,
   "metadata": {},
   "outputs": [],
   "source": [
    "#solution de deep copy n2\n",
    "#nous copions chaque liste une par une \n",
    "carre_pas_mag = []\n",
    "for ligne in carre_mag:\n",
    "    carre_pas_mag.append(ligne.copy())"
   ]
  },
  {
   "cell_type": "code",
   "execution_count": 4,
   "metadata": {},
   "outputs": [],
   "source": [
    "#solution de deep copy n2\n",
    "#même chose mais avec l'écriture \"en compréhension\".\n",
    "carre_pas_mag = [ligne[:]for ligne in carre_mag]"
   ]
  },
  {
   "cell_type": "code",
   "execution_count": 5,
   "metadata": {},
   "outputs": [],
   "source": [
    "carre_pas_mag[3][2] = 7"
   ]
  },
  {
   "cell_type": "code",
   "execution_count": 7,
   "metadata": {},
   "outputs": [
    {
     "name": "stdout",
     "output_type": "stream",
     "text": [
      "[4, 14, 15, 1]\n",
      "[9, 7, 6, 12]\n",
      "[5, 11, 10, 8]\n",
      "[16, 2, 3, 13]\n",
      "\n",
      "[4, 14, 15, 1]\n",
      "[9, 7, 6, 12]\n",
      "[5, 11, 10, 8]\n",
      "[16, 2, 7, 13]\n",
      "\n"
     ]
    }
   ],
   "source": [
    "def afficheCarre(carre: list) -> None:\n",
    "    \"\"\"Affiche la liste à 2 dimensions carre comme un carre\"\"\"\n",
    "    for ligne in carre:\n",
    "        print(ligne)\n",
    "    print()\n",
    "\n",
    "afficheCarre(carre_mag)\n",
    "afficheCarre(carre_pas_mag)\n"
   ]
  },
  {
   "cell_type": "code",
   "execution_count": 18,
   "metadata": {},
   "outputs": [
    {
     "name": "stdout",
     "output_type": "stream",
     "text": [
      "34\n",
      "-1\n"
     ]
    }
   ],
   "source": [
    "def testLignesEgales(carre:list) -> int:\n",
    "    \"\"\" Renvoie la somme des éléments d'une ligne de la liste 2D carre si toutes les lignes ont la même somme, et -1 sinon \"\"\"\n",
    "    somme = -1\n",
    "    for ligne in carre:\n",
    "        somme_courante = 0\n",
    "        for element in ligne:\n",
    "            somme_courante += element \n",
    "        if somme == -1:\n",
    "            somme = somme_courante\n",
    "        elif somme_courante != somme:\n",
    "            return -1\n",
    "    return somme \n",
    "\n",
    "print(testLignesEgales(carre_mag))\n",
    "print(testLignesEgales(carre_pas_mag))"
   ]
  },
  {
   "cell_type": "code",
   "execution_count": 20,
   "metadata": {},
   "outputs": [
    {
     "name": "stdout",
     "output_type": "stream",
     "text": [
      "34\n",
      "34\n"
     ]
    }
   ],
   "source": [
    "#solution 2: en utilisant la fonction sum\n",
    "def testLignesEgales(carre: list) ->int:\n",
    "    somme = sum(carre[0])\n",
    "    for ligne in carre:\n",
    "        if sum(ligne) != somme:\n",
    "            return -1\n",
    "        return somme\n",
    "\n",
    "print(testLignesEgales(carre_mag))\n",
    "print(testLignesEgales(carre_pas_mag))"
   ]
  },
  {
   "cell_type": "code",
   "execution_count": 21,
   "metadata": {},
   "outputs": [
    {
     "name": "stdout",
     "output_type": "stream",
     "text": [
      "34\n",
      "-1\n"
     ]
    }
   ],
   "source": [
    "def testColonnesEgales(carre:list) -> int:\n",
    "    \"\"\" Renvoie la somme des éléments d'une colonne de la liste 2D carre si toutes les colonnes ont la même somme, et -1 sinon \"\"\"\n",
    "    somme = -1\n",
    "    for colonne in carre:\n",
    "        somme_courante = 0\n",
    "        for element in colonne:\n",
    "            somme_courante += element \n",
    "        if somme == -1:\n",
    "            somme = somme_courante\n",
    "        elif somme_courante != somme:\n",
    "            return -1\n",
    "    return somme \n",
    "\n",
    "print(testColonnesEgales(carre_mag))\n",
    "print(testColonnesEgales(carre_pas_mag))"
   ]
  },
  {
   "cell_type": "code",
   "execution_count": 22,
   "metadata": {},
   "outputs": [
    {
     "name": "stdout",
     "output_type": "stream",
     "text": [
      "34\n",
      "34\n"
     ]
    }
   ],
   "source": [
    "def testColonnesEgales(carre: list) -> int:\n",
    "    colonne_1 = [ligne[0] for ligne in carre]\n",
    "    somme = sum(colonne_1)\n",
    "    for num_colonne in range(1,len(carre)):\n",
    "        colonne = [ligne[num_colonne] for ligne in carre]\n",
    "        if sum(colonne) != somme:\n",
    "            return -1\n",
    "        return somme\n",
    "\n",
    "print(testColonnesEgales(carre_mag))\n",
    "print(testColonnesEgales(carre_pas_mag))"
   ]
  },
  {
   "cell_type": "code",
   "execution_count": 5,
   "metadata": {},
   "outputs": [
    {
     "name": "stdout",
     "output_type": "stream",
     "text": [
      "34\n",
      "34\n"
     ]
    }
   ],
   "source": [
    "def testDiagonalesEgales(carre: list) -> int:\n",
    "    taille = len(carre)\n",
    "    diagonale_1 = [carre[i][i] for i in range(taille)]\n",
    "    diagonale_2 = [carre[i][taille - i - 1]for i in range(taille)]\n",
    "    somme_1 = sum(diagonale_1)\n",
    "    if sum(diagonale_2) != somme_1:\n",
    "        return -1\n",
    "    else:\n",
    "        return somme_1\n",
    "\n",
    "print(testDiagonalesEgales(carre_mag))\n",
    "print(testDiagonalesEgales(carre_pas_mag))"
   ]
  },
  {
   "cell_type": "code",
   "execution_count": 6,
   "metadata": {},
   "outputs": [
    {
     "ename": "NameError",
     "evalue": "name 'testLignesEgales' is not defined",
     "output_type": "error",
     "traceback": [
      "\u001b[0;31m---------------------------------------------------------------------------\u001b[0m",
      "\u001b[0;31mNameError\u001b[0m                                 Traceback (most recent call last)",
      "Cell \u001b[0;32mIn [6], line 6\u001b[0m\n\u001b[1;32m      1\u001b[0m \u001b[38;5;28;01mdef\u001b[39;00m \u001b[38;5;21mestCarreMagique\u001b[39m(carre: \u001b[38;5;28mlist\u001b[39m) \u001b[38;5;241m-\u001b[39m\u001b[38;5;241m>\u001b[39m \u001b[38;5;28mbool\u001b[39m:\n\u001b[1;32m      2\u001b[0m     \u001b[38;5;28;01mreturn\u001b[39;00m testLignesEgales(carre) \u001b[38;5;241m==\u001b[39m testColonnesEgales(carre)\\\n\u001b[1;32m      3\u001b[0m         \u001b[38;5;129;01mand\u001b[39;00m testLignesEgales(carre) \u001b[38;5;241m==\u001b[39m testDiagonalesEgales(carre)\\\n\u001b[1;32m      4\u001b[0m         \u001b[38;5;129;01mand\u001b[39;00m testLignesEgales(carre) \u001b[38;5;241m!=\u001b[39m \u001b[38;5;241m-\u001b[39m\u001b[38;5;241m1\u001b[39m\n\u001b[0;32m----> 6\u001b[0m \u001b[38;5;28mprint\u001b[39m(estCarreMagique(carre_mag))\n\u001b[1;32m      7\u001b[0m \u001b[38;5;28mprint\u001b[39m(estCarreMagique(carre_pas_mag))\n",
      "Cell \u001b[0;32mIn [6], line 2\u001b[0m, in \u001b[0;36mestCarreMagique\u001b[0;34m(carre)\u001b[0m\n\u001b[1;32m      1\u001b[0m \u001b[38;5;28;01mdef\u001b[39;00m \u001b[38;5;21mestCarreMagique\u001b[39m(carre: \u001b[38;5;28mlist\u001b[39m) \u001b[38;5;241m-\u001b[39m\u001b[38;5;241m>\u001b[39m \u001b[38;5;28mbool\u001b[39m:\n\u001b[0;32m----> 2\u001b[0m     \u001b[38;5;28;01mreturn\u001b[39;00m \u001b[43mtestLignesEgales\u001b[49m(carre) \u001b[38;5;241m==\u001b[39m testColonnesEgales(carre)\\\n\u001b[1;32m      3\u001b[0m         \u001b[38;5;129;01mand\u001b[39;00m testLignesEgales(carre) \u001b[38;5;241m==\u001b[39m testDiagonalesEgales(carre)\\\n\u001b[1;32m      4\u001b[0m         \u001b[38;5;129;01mand\u001b[39;00m testLignesEgales(carre) \u001b[38;5;241m!=\u001b[39m \u001b[38;5;241m-\u001b[39m\u001b[38;5;241m1\u001b[39m\n",
      "\u001b[0;31mNameError\u001b[0m: name 'testLignesEgales' is not defined"
     ]
    }
   ],
   "source": [
    "def estCarreMagique(carre: list) -> bool:\n",
    "    return testLignesEgales(carre) == testColonnesEgales(carre)\\\n",
    "        and testLignesEgales(carre) == testDiagonalesEgales(carre)\\\n",
    "        and testLignesEgales(carre) != -1\n",
    "\n",
    "print(estCarreMagique(carre_mag))\n",
    "print(estCarreMagique(carre_pas_mag))"
   ]
  }
 ],
 "metadata": {
  "kernelspec": {
   "display_name": "Python 3.10.7 64-bit",
   "language": "python",
   "name": "python3"
  },
  "language_info": {
   "codemirror_mode": {
    "name": "ipython",
    "version": 3
   },
   "file_extension": ".py",
   "mimetype": "text/x-python",
   "name": "python",
   "nbconvert_exporter": "python",
   "pygments_lexer": "ipython3",
   "version": "3.10.7"
  },
  "orig_nbformat": 4,
  "vscode": {
   "interpreter": {
    "hash": "916dbcbb3f70747c44a77c7bcd40155683ae19c65e1c03b4aa3499c5328201f1"
   }
  }
 },
 "nbformat": 4,
 "nbformat_minor": 2
}
